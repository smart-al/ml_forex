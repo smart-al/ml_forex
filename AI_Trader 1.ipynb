{
  "nbformat": 4,
  "nbformat_minor": 0,
  "metadata": {
    "colab": {
      "provenance": []
    },
    "kernelspec": {
      "name": "python3",
      "display_name": "Python 3"
    },
    "language_info": {
      "name": "python"
    }
  },
  "cells": [
    {
      "cell_type": "code",
      "execution_count": null,
      "metadata": {
        "id": "IWuU-sTXgIJ5"
      },
      "outputs": [],
      "source": [
        "import tensorflow as tf\n",
        "import numpy as np\n",
        "import pandas as pd\n",
        "import requests\n",
        "from keras.models import Sequential\n",
        "from keras.losses import MeanSquaredError\n",
        "from keras.layers import Dense, Flatten, Dropout, rnn, LSTM, GRU\n",
        "from keras import optimizers, datasets\n",
        "import oandapyV20\n",
        "import oandapyV20.endpoints.instruments as instruments\n",
        "from oandapyV20 import API\n",
        "from oandapyV20.exceptions import V20Error\n",
        "from oandapyV20.endpoints import instruments"
      ]
    },
    {
      "cell_type": "code",
      "source": [
        "# Use your brokers api key below\n",
        "\n",
        "accountID = \"101-001-2023237-023\"\n",
        "\n",
        "oanda = oandapyV20.API(environment=\"practice\", access_token=\"dfa70843fb9dcf028cdcb-c32d9c47d102003af0\")\n",
        "\n",
        "client = oandapyV20.API(access_token=oanda.access_token)\n",
        "\n",
        "# Data pairs of majors , minors, and those combined, which = 28 pairs\n",
        "currency_pairs = [\"EUR_USD\", \"USD_JPY\", \"GBP_USD\", \"USD_CHF\", \"USD_CAD\", \"AUD_USD\",\n",
        "                  \"NZD_USD\", \"EUR_GBP\", \"EUR_JPY\", \"GBP_JPY\", \"EUR_CHF\", \"EUR_CAD\",\n",
        "                  \"AUD_JPY\", \"AUD_NZD\", \"AUD_CAD\", \"AUD_CHF\", \"CAD_JPY\", \"CAD_CHF\",\n",
        "                  \"CHF_JPY\", \"EUR_NZD\", \"GBP_AUD\", \"GBP_CAD\", \"GBP_CHF\", \"GBP_NZD\",\n",
        "                  \"NZD_CAD\", \"NZD_CHF\", \"NZD_JPY\", \"EUR_AUD\"]\n",
        "\n",
        "instrument_list = \",\".join(currency_pairs)\n",
        "\n",
        "params = {\n",
        "    \"count\": 700,\n",
        "    \"granularity\": \"D\",\n",
        "    \"instruments\": instrument_list\n",
        "}\n",
        "\n"
      ],
      "metadata": {
        "id": "xZMxGerZL9kQ"
      },
      "execution_count": null,
      "outputs": []
    },
    {
      "cell_type": "code",
      "source": [
        "batch_size = 28\n",
        "timesteps = 700\n",
        "input_dim = 5\n",
        "num_candles = 5\n",
        "\n",
        "# Generate random input data\n",
        "x = np.random.rand(batch_size, timesteps, input_dim)\n",
        "y = np.random.randint(0, 2, size=(batch_size,))\n",
        "\n",
        "# Load your candle data here\n",
        "\n",
        "instrument = params\n",
        "request_object = instruments.InstrumentsCandles(instrument=instrument_list, params=params)\n",
        "data = client.request(request_object)\n",
        "\n",
        "# Extract the candle data from the response\n",
        "candles = []\n",
        "for candle in data['candles']:\n",
        "    candles.append([candle['time'], candle['mid']['o'], candle['mid']['h'], candle['mid']['l'], candle['mid']['c']])\n",
        "\n",
        "# Convert the candle data to a numpy array\n",
        "candles = np.array(candles)\n",
        "\n",
        "# Create a new axis for the candles data\n",
        "candles = candles[np.newaxis, :, :]\n",
        "\n",
        "# Repeat the candles data for each sample in the batch\n",
        "candles = np.repeat(candles, batch_size, axis=0)\n",
        "\n",
        "# Concatenate the candle data with your input data\n",
        "x = np.concatenate((x, candles), axis=2)\n",
        "\n",
        "x_train, x_test, y_train, y_test = train_split_test(x,y, test_size=0.2)\n",
        "\n",
        "\n"
      ],
      "metadata": {
        "colab": {
          "base_uri": "https://localhost:8080/",
          "height": 236
        },
        "id": "dk8Oi10rrSjj",
        "outputId": "be7a09b5-4e52-4e65-970f-4ed75f4bb357"
      },
      "execution_count": null,
      "outputs": [
        {
          "output_type": "error",
          "ename": "AttributeError",
          "evalue": "ignored",
          "traceback": [
            "\u001b[0;31m---------------------------------------------------------------------------\u001b[0m",
            "\u001b[0;31mAttributeError\u001b[0m                            Traceback (most recent call last)",
            "\u001b[0;32m<ipython-input-60-686f6f798578>\u001b[0m in \u001b[0;36m<cell line: 13>\u001b[0;34m()\u001b[0m\n\u001b[1;32m     11\u001b[0m \u001b[0;34m\u001b[0m\u001b[0m\n\u001b[1;32m     12\u001b[0m \u001b[0minstrument\u001b[0m \u001b[0;34m=\u001b[0m \u001b[0mparams\u001b[0m\u001b[0;34m\u001b[0m\u001b[0;34m\u001b[0m\u001b[0m\n\u001b[0;32m---> 13\u001b[0;31m \u001b[0mrequest_object\u001b[0m \u001b[0;34m=\u001b[0m \u001b[0minstruments\u001b[0m\u001b[0;34m.\u001b[0m\u001b[0mInstrumentsCandles\u001b[0m\u001b[0;34m(\u001b[0m\u001b[0minstrument\u001b[0m\u001b[0;34m=\u001b[0m\u001b[0minstrument_list\u001b[0m\u001b[0;34m,\u001b[0m \u001b[0mparams\u001b[0m\u001b[0;34m=\u001b[0m\u001b[0mparams\u001b[0m\u001b[0;34m)\u001b[0m\u001b[0;34m\u001b[0m\u001b[0;34m\u001b[0m\u001b[0m\n\u001b[0m\u001b[1;32m     14\u001b[0m \u001b[0mdata\u001b[0m \u001b[0;34m=\u001b[0m \u001b[0mclient\u001b[0m\u001b[0;34m.\u001b[0m\u001b[0mrequest\u001b[0m\u001b[0;34m(\u001b[0m\u001b[0mrequest_object\u001b[0m\u001b[0;34m)\u001b[0m\u001b[0;34m\u001b[0m\u001b[0;34m\u001b[0m\u001b[0m\n\u001b[1;32m     15\u001b[0m \u001b[0;34m\u001b[0m\u001b[0m\n",
            "\u001b[0;31mAttributeError\u001b[0m: 'dict' object has no attribute 'InstrumentsCandles'"
          ]
        }
      ]
    },
    {
      "cell_type": "code",
      "source": [
        " \"\"\" This function trades each pair on the currency list, using 2% of the balance, that way you will never have a margin call,\n",
        "it sets a stoploss at 1.5 * atr on each trade each trade, traded. Once in a trade it will not repeat a pair.\n",
        "Example: If i trade the EUR/USD in a long or buy position. This function will NOT trade any other pair that has the currency EUR or USD.\n",
        "In other words it doesn't repeat traded currency. \"\"\"\n",
        "\n",
        "\"\"\"Add your trading strategy here, you can use it to train your model or use\n",
        "it in python on your practice accounts on your trading platform. Feel free\n",
        "to use it as you like.\n",
        "\"\"\"\n",
        "class forex_trading_strategies():\n",
        "  def __init__(self, alpha=1.0):\n",
        "    self.alpha=alpha\n",
        "\n",
        "  def my_trading_reward(state, action, enter_trade, exit_trade, balance, atr, traded_pairs, current_pair):\n",
        "      trade_size = 0.02 * balance / (1.5 * atr)\n",
        "      stop_loss = state[enter_trade] - 1.5 * atr\n",
        "      position = state[enter_trade]\n",
        "      if action == 1:  # enter long position\n",
        "          if any(curr in current_pair for curr in traded_pairs):\n",
        "              position = 0\n",
        "          else:\n",
        "              position = trade_size\n",
        "              traded_pairs.extend(current_pair.split('/'))\n",
        "      elif action == 2:  # enter short position\n",
        "          if any(curr in current_pair for curr in traded_pairs):\n",
        "              position = 0\n",
        "          else:\n",
        "              position = -trade_size\n",
        "              traded_pairs.extend(current_pair.split('/'))\n",
        "      elif action == 3:  # exit position\n",
        "          position = 0\n",
        "      if state[exit_trade] <= stop_loss:\n",
        "          position = 0\n",
        "      profit = (state[exit_trade] - state[enter_trade]) * position\n",
        "      reward = profit\n",
        "      return reward, position, traded_pairs\n",
        "\n",
        "    # add your trading strategies below\n",
        "\n",
        "  def trading_strategy():\n",
        "    pass\n",
        "\n",
        "  def trading_strategy_1():\n",
        "    pass\n"
      ],
      "metadata": {
        "id": "IZuN_ubMhaqL"
      },
      "execution_count": null,
      "outputs": []
    },
    {
      "cell_type": "code",
      "source": [
        "# build models\n",
        "class my_forex_models():\n",
        "  def __init__(self, alpha=1.0):\n",
        "    self.alpha=alpha\n",
        "\n",
        "  def model_with_sequential():\n",
        "    seq_model = Sequential([\n",
        "        LSTM(512, input_shape=(timesteps, input_dim)),\n",
        "        Dense(512, activation=tf.nn.relu),\n",
        "        Dense(128, activation=tf.nn.relu),\n",
        "        Dropout(0.25),\n",
        "        Dense(28, activation=tf.nn.softmax)\n",
        "    ])\n",
        "    return seq_model\n",
        "\n",
        "  def model_with_functional():\n",
        "    pass\n",
        "\n",
        "  # i can build my model using my trading indictors\n",
        "  def model_with_multi_indicators():\n",
        "\n",
        "    # Credit for indicator functions with machine learning goes to Bing AI by Microsoft\n",
        "    def linear_regression_channel(self, data, period=14):\n",
        "        x = tf.range(period)\n",
        "        x_mean = tf.reduce_mean(x)\n",
        "        y_mean = tf.reduce_mean(data[:, -period:], axis=1)\n",
        "        b = tf.reduce_sum((x - x_mean) * (data[:, -period:] - y_mean), axis=1) / tf.reduce_sum(tf.square(x - x_mean))\n",
        "        a = y_mean - b * x_mean\n",
        "        upper = a + b * (period - 1) + 2 * tf.math.reduce_std(data[:, -period:], axis=1)\n",
        "        lower = a + b * (period - 1) - 2 * tf.math.reduce_std(data[:, -period:], axis=1)\n",
        "        return upper, lower\n",
        "\n",
        "    def smi_ergodic_indicator(self, data, n=10, n2=4, n3=10):\n",
        "        hl2 = (data[:, :, 0] + data[:, :, 1]) / 2\n",
        "        cmo = 100 * (hl2 - hl2[:, n-1:n]) / (hl2 + hl2[:, n-1:n])\n",
        "        cmo_ema1 = tf.keras.backend.squeeze(tf.keras.layers.EMA(alpha=1/n2)(tf.expand_dims(cmo, axis=-1)), axis=-1)\n",
        "        cmo_ema2 = tf.keras.backend.squeeze(tf.keras.layers.EMA(alpha=1/n3)(tf.expand_dims(cmo_ema1, axis=-1)), axis=-1)\n",
        "        return cmo_ema2\n",
        "\n",
        "    def arnaud_legoux_ma(self, data, period=9, sigma=6, offset=0.85):\n",
        "        m = offset * (period - 1)\n",
        "        s = period / sigma\n",
        "        w = tf.exp(-((tf.range(period) - m) ** 2) / (2 * s ** 2))\n",
        "        alma = tf.reduce_sum(w * data[:, -period:], axis=1) / tf.reduce_sum(w)\n",
        "        return alma\n",
        "\n",
        "    def average_true_range(self, data, period=14):\n",
        "        high = data[:, :, 0]\n",
        "        low = data[:, :, 1]\n",
        "        close = data[:, :, 2]\n",
        "        tr = tf.maximum(high - low, tf.abs(high - close), tf.abs(low - close))\n",
        "        atr = tf.reduce_mean(tr, axis=1)\n",
        "        for i in range(1, tr.shape[1]):\n",
        "            atr = (atr * (period - 1) + tr[:, i]) / period\n",
        "        return atr\n",
        "\n",
        "    def chalkin_money_flow(self, data, period=20):\n",
        "        high = data[:, :, 0]\n",
        "        low = data[:, :, 1]\n",
        "        close = data[:, :, 2]\n",
        "        volume = data[:, :, 3]\n",
        "        mf_multiplier = ((close - low) - (high - close)) / (high - low)\n",
        "        mf_volume = mf_multiplier * volume\n",
        "        cmf = tf.reduce_sum(mf_volume[:, -period:], axis=1) / tf.reduce_sum(volume[:, -period:], axis=1)\n",
        "        return cmf\n",
        "\n",
        "\n"
      ],
      "metadata": {
        "id": "D57J3bR3hav-"
      },
      "execution_count": null,
      "outputs": []
    },
    {
      "cell_type": "code",
      "source": [
        "# you  can make a loss function with  trading indicators\n",
        "\n",
        "\"\"\"Feel free to add your own loss functions below\"\"\"\n",
        "class custom_losses():\n",
        "\n",
        "    # Credit goes to GoGiddyUp on GitHub. For below code. https://github.com/GoGiddyUp\n",
        "    def __init__(self, alpha=1.0):\n",
        "      self.alpha = alpha # This is necessary for Keras to process this as a loss function\n",
        "\n",
        "    def __call__(self, y_true, y_pred):\n",
        "        # Compute loss here. This is a simple example using mean squared error\n",
        "        mse = tf.keras.losses.mean_squared_error(y_true, y_pred)\n",
        "        return mse\n",
        "\n",
        "    def your_loss(self, y_true, y_pred):\n",
        "      pass\n",
        "\n",
        "    def your_loss_1(self, y_true, y_pred):\n",
        "      pass\n",
        "\n",
        "    def your_loss_2(self, y_true, y_pred):\n",
        "      pass\n",
        "\n",
        "    # Credit for indicator functions with machine learning goes to Bing AI by Microsoft\n",
        "    def multi_indicator_loss(self, y_true, y_pred):\n",
        "\n",
        "      # combine all indicators to compute the final loss\n",
        "      indicator1 = self.linear_regression_channel(y_pred)\n",
        "      indicator2 = self.smi_ergodic_indicator(y_pred)\n",
        "      indicator3 = self.arnaud_legoux_ma(y_pred)\n",
        "      indicator4 = self.average_true_range(y_pred)\n",
        "      indicator5 = self.chalkin_money_flow(y_pred)\n",
        "\n",
        "      combined_indicator = (indicator1 + indicator2 + indicator3 + indicator4 + indicator5) / 5\n",
        "\n",
        "      mse = tf.keras.losses.mean_squared_error(y_true, combined_indicator)\n",
        "\n",
        "      return mse\n",
        "\n",
        "      def linear_regression_channel(self, data, period=14):\n",
        "          x = tf.range(period)\n",
        "          x_mean = tf.reduce_mean(x)\n",
        "          y_mean = tf.reduce_mean(data[:, -period:], axis=1)\n",
        "          b = tf.reduce_sum((x - x_mean) * (data[:, -period:] - y_mean), axis=1) / tf.reduce_sum(tf.square(x - x_mean))\n",
        "          a = y_mean - b * x_mean\n",
        "          upper = a + b * (period - 1) + 2 * tf.math.reduce_std(data[:, -period:], axis=1)\n",
        "          lower = a + b * (period - 1) - 2 * tf.math.reduce_std(data[:, -period:], axis=1)\n",
        "          return (upper + lower) / 2\n",
        "\n",
        "      def smi_ergodic_indicator(self, data, n=10, n2=4, n3=10):\n",
        "          hl2 = (data[:, :, 0] + data[:, :, 1]) / 2\n",
        "          cmo = 100 * (hl2 - hl2[:, n-1:n]) / (hl2 + hl2[:, n-1:n])\n",
        "          cmo_ema1 = tf.keras.backend.squeeze(tf.keras.layers.EMA(alpha=1/n2)(tf.expand_dims(cmo, axis=-1)), axis=-1)\n",
        "          cmo_ema2 = tf.keras.backend.squeeze(tf.keras.layers.EMA(alpha=1/n3)(tf.expand_dims(cmo_ema1, axis=-1)), axis=-1)\n",
        "          return cmo_ema2\n",
        "\n",
        "      def arnaud_legoux_ma(self, data, period=9, sigma=6, offset=0.85):\n",
        "          m = offset * (period - 1)\n",
        "          s = period / sigma\n",
        "          w = tf.exp(-((tf.range(period) - m) ** 2) / (2 * s ** 2))\n",
        "          alma = tf.reduce_sum(w * data[:, -period:], axis=1) / tf.reduce_sum(w)\n",
        "          return alma\n",
        "\n",
        "      def average_true_range(self, data, period=14):\n",
        "          high = data[:, :, 0]\n",
        "          low = data[:, :, 1]\n",
        "          close = data[:, :, 2]\n",
        "          tr = tf.maximum(high - low, tf.abs(high - close), tf.abs(low - close))\n",
        "          atr = tf.reduce_mean(tr, axis=1)\n",
        "          for i in range(1, tr.shape[1]):\n",
        "              atr = (atr * (period - 1) + tr[:, i]) / period\n",
        "          return atr\n",
        "\n",
        "      def chalkin_money_flow(self, data, period=17):\n",
        "          high = data[:, :, 0]\n",
        "          low = data[:, :, 1]\n",
        "          close = data[:, :, 2]\n",
        "          volume = data[:, :, 3]\n",
        "          mf_multiplier = ((close - low) - (high - close)) / (high - low)\n",
        "          mf_volume = mf_multiplier * volume\n",
        "          cmf = tf.reduce_sum(mf_volume[:, -period:], axis=1) / tf.reduce_sum(volume[:, -period:], axis=1)\n",
        "\n",
        "\n",
        "\n",
        "\n",
        "\n"
      ],
      "metadata": {
        "id": "G14AUpn0vKDq"
      },
      "execution_count": null,
      "outputs": []
    },
    {
      "cell_type": "code",
      "source": [
        "losses = custom_losses()\n",
        "\n",
        "model = my_forex_models()\n",
        "\n",
        "seq_model = model.model_with_sequential()"
      ],
      "metadata": {
        "id": "kv_7p_ymmTPd",
        "colab": {
          "base_uri": "https://localhost:8080/",
          "height": 202
        },
        "outputId": "65fe62e3-4452-4616-f3e6-fa569b199708"
      },
      "execution_count": null,
      "outputs": [
        {
          "output_type": "error",
          "ename": "TypeError",
          "evalue": "ignored",
          "traceback": [
            "\u001b[0;31m---------------------------------------------------------------------------\u001b[0m",
            "\u001b[0;31mTypeError\u001b[0m                                 Traceback (most recent call last)",
            "\u001b[0;32m<ipython-input-28-e699c53a4aa0>\u001b[0m in \u001b[0;36m<cell line: 5>\u001b[0;34m()\u001b[0m\n\u001b[1;32m      3\u001b[0m \u001b[0mmodel\u001b[0m \u001b[0;34m=\u001b[0m \u001b[0mmy_forex_models\u001b[0m\u001b[0;34m(\u001b[0m\u001b[0;34m)\u001b[0m\u001b[0;34m\u001b[0m\u001b[0;34m\u001b[0m\u001b[0m\n\u001b[1;32m      4\u001b[0m \u001b[0;34m\u001b[0m\u001b[0m\n\u001b[0;32m----> 5\u001b[0;31m \u001b[0mseq_model\u001b[0m \u001b[0;34m=\u001b[0m \u001b[0mmodel\u001b[0m\u001b[0;34m.\u001b[0m\u001b[0mmodel_with_sequential\u001b[0m\u001b[0;34m(\u001b[0m\u001b[0;34m)\u001b[0m\u001b[0;34m\u001b[0m\u001b[0;34m\u001b[0m\u001b[0m\n\u001b[0m",
            "\u001b[0;31mTypeError\u001b[0m: my_forex_models.model_with_sequential() takes 0 positional arguments but 1 was given"
          ]
        }
      ]
    },
    {
      "cell_type": "code",
      "source": [
        "model.compile(\n",
        "    optimizer=optimizers.Adam(learning_rate=0.0001),\n",
        "    loss=losses.multi_indicator_loss,\n",
        "    metrics=['accuracy']\n",
        ")"
      ],
      "metadata": {
        "id": "Ysx9NzKBmNV3"
      },
      "execution_count": null,
      "outputs": []
    },
    {
      "cell_type": "code",
      "source": [],
      "metadata": {
        "id": "DEgVdCSUF7Rb"
      },
      "execution_count": null,
      "outputs": []
    },
    {
      "cell_type": "code",
      "source": [],
      "metadata": {
        "id": "GCYGo6q4F7am"
      },
      "execution_count": null,
      "outputs": []
    }
  ]
}