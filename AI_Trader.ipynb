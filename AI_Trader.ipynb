{
  "cells": [
    {
      "cell_type": "code",
      "execution_count": 9,
      "metadata": {
        "id": "IWuU-sTXgIJ5"
      },
      "outputs": [
        {
          "name": "stdout",
          "output_type": "stream",
          "text": [
            "Requirement already satisfied: pip in /opt/python/3.10.8/lib/python3.10/site-packages (23.1.2)\n",
            "Collecting pip\n",
            "  Downloading pip-23.2.1-py3-none-any.whl (2.1 MB)\n",
            "\u001b[2K     \u001b[90m━━━━━━━━━━━━━━━━━━━━━━━━━━━━━━━━━━━━━━━━\u001b[0m \u001b[32m2.1/2.1 MB\u001b[0m \u001b[31m27.8 MB/s\u001b[0m eta \u001b[36m0:00:00\u001b[0m00:01\u001b[0m00:01\u001b[0m\n",
            "\u001b[?25hInstalling collected packages: pip\n",
            "  Attempting uninstall: pip\n",
            "    Found existing installation: pip 23.1.2\n",
            "    Uninstalling pip-23.1.2:\n",
            "      Successfully uninstalled pip-23.1.2\n",
            "\u001b[33m  WARNING: The scripts pip, pip3 and pip3.10 are installed in '/opt/python/3.10.8/bin' which is not on PATH.\n",
            "  Consider adding this directory to PATH or, if you prefer to suppress this warning, use --no-warn-script-location.\u001b[0m\u001b[33m\n",
            "\u001b[0mSuccessfully installed pip-23.2.1\n"
          ]
        }
      ],
      "source": [
        "\n",
        "\n",
        "# upgrade pip\n",
        "!pip install --upgrade pip\n",
        "\n",
        "import datetime\n",
        "import tensorflow as tf\n",
        "import requests\n",
        "import numpy as np\n",
        "from keras.models import Sequential\n",
        "\n",
        "from keras import optimizers, datasets\n",
        "import oandapyV20\n",
        "from oandapyV20 import API\n",
        "import oandapyV20.endpoints.instruments as instruments\n",
        "from oandapyV20.endpoints import instruments\n"
      ]
    },
    {
      "cell_type": "code",
      "execution_count": 3,
      "metadata": {
        "id": "IZuN_ubMhaqL"
      },
      "outputs": [],
      "source": [
        "\"\"\" This function trades each pair on the currency list, using 2% of the balance, that way you will never have a margin call,\n",
        "it sets a stoploss at 1.5 * atr on each trade each trade, traded. Once in a trade it will not repeat a pair.\n",
        "Example: If i trade the EUR/USD in a long or buy position. This function will NOT trade any other pair that has the currency EUR or USD.\n",
        "In other words it doesn't repeat traded currency. \"\"\"\n",
        "\n",
        "\"\"\"Add your trading strategy here, you can use it to train your model or use\n",
        "it in python on your practice accounts on your trading platform. Feel free\n",
        "to use it as you like.\n",
        "\"\"\"\n",
        "\n",
        "\n",
        "class forex_trading_strategies():\n",
        "  def __init__(self, state, action, enter_trade, exit_trade, balance, atr, traded_pairs, current_pair):\n",
        "    super(forex_trading_strategies, self).__init__()\n",
        "    self.indicator = indicator_list()\n",
        "\n",
        "  def my_trading_reward(state, action, enter_trade, exit_trade, balance, atr, traded_pairs, current_pair):\n",
        "\n",
        "    call_indicators()\n",
        "    oanda_api()\n",
        "    apply_strategy()\n"
      ]
    },
    {
      "cell_type": "code",
      "execution_count": 4,
      "metadata": {
        "id": "HvrkWXW_E_qM"
      },
      "outputs": [],
      "source": [
        "def call_indicators(indicator_list):\n",
        "  # Call the methods from the indicator_list class\n",
        "  smi_ergodic = self.indicators.smi_ergodic_indicator(data)\n",
        "  arnaud_legoux = self.indicators.arnaud_legoux_ma(data)\n",
        "  average_true_range = self.indicators.average_true_range(data)\n",
        "  chalkin_money_flow = self.indicators.chalkin_money_flow(data)\n"
      ]
    },
    {
      "cell_type": "code",
      "execution_count": 8,
      "metadata": {
        "id": "NUtGwiAEEFkb"
      },
      "outputs": [],
      "source": [
        "def oanda_api():\n",
        "    # Use your oanda account id and your oanda api. Works for both live and demo accounts.\n",
        "    accountID = \"101-001-20933117-001\"\n",
        "\n",
        "    access_token = \"e31de161f17280a7c9dd3e51ae2f4c98-900a162ad877c6a40dacaf48d0e8fb29\"\n",
        "\n",
        "    client = oandapyV20.API(access_token=access_token)\n",
        "\n",
        "    \"\"\"You can modify the granularity to what ever time frame you trade with. Also you\n",
        "    can modify the days which is how much data you want to feed the model.\"\"\"\n",
        "\n",
        "    params = {\n",
        "        \"count\": 5000,\n",
        "        \"granularity\": \"D\",\n",
        "        \"from\": (datetime.datetime.now() - datetime.timedelta(days=548)).strftime('%Y-%m-%dT%H:%M:%S.%fZ')\n",
        "    }\n",
        "\n",
        "    instruments_list = [\"EUR_USD\", \"USD_JPY\", \"GBP_USD\", \"USD_CHF\", \"USD_CAD\", \"AUD_USD\",\n",
        "                      \"NZD_USD\", \"EUR_GBP\", \"EUR_JPY\", \"GBP_JPY\", \"EUR_CHF\", \"EUR_CAD\",\n",
        "                      \"AUD_JPY\", \"AUD_NZD\", \"AUD_CAD\", \"AUD_CHF\", \"CAD_JPY\", \"CAD_CHF\",\n",
        "                      \"CHF_JPY\", \"EUR_NZD\", \"GBP_AUD\", \"GBP_CAD\", \"GBP_CHF\", \"GBP_NZD\",\n",
        "                      \"NZD_CAD\", \"NZD_CHF\", \"NZD_JPY\", \"EUR_AUD\"]\n",
        "\n",
        "    for instrument in instruments_list:\n",
        "        r = instruments.InstrumentsCandles(instrument=instrument, params=params)\n",
        "        data = self.client.request(r)"
      ]
    },
    {
      "cell_type": "code",
      "execution_count": 9,
      "metadata": {
        "id": "M7zhoEzGD_me"
      },
      "outputs": [],
      "source": [
        "def apply_strategy(forex_trading_strategies):\n",
        "\n",
        "  # My trading strategy code below. Feel free to add your own.\n",
        "\n",
        "  trade_size = 0.02 * balance / (1.5 * atr)\n",
        "  stop_loss = state[enter_trade] - 1.5 * atr\n",
        "  position = state[enter_trade]\n",
        "  if action == 1:  # enter long position\n",
        "      if any(curr in current_pair for curr in traded_pairs):\n",
        "          position = 0\n",
        "      else:\n",
        "          position = trade_size\n",
        "          traded_pairs.extend(current_pair.split('/'))\n",
        "  elif action == 2:  # enter short position\n",
        "      if any(curr in current_pair for curr in traded_pairs):\n",
        "          position = 0\n",
        "      else:\n",
        "          position = - trade_size\n",
        "          traded_pairs.extend(current_pair.split('/'))\n",
        "  elif action == 3:  # exit position\n",
        "      position = 0\n",
        "  if state[exit_trade] <= stop_loss:\n",
        "      position = 0\n",
        "  profit = (state[exit_trade] - state[enter_trade]) * position\n",
        "  reward = profit\n",
        "  return reward, position, traded_pairs"
      ]
    },
    {
      "cell_type": "code",
      "execution_count": 10,
      "metadata": {
        "colab": {
          "base_uri": "https://localhost:8080/"
        },
        "id": "D57J3bR3hav-",
        "outputId": "5a71fff0-b843-47b0-92c3-0b4f6bd6f54b"
      },
      "outputs": [
        {
          "ename": "SyntaxError",
          "evalue": "invalid syntax (712851484.py, line 35)",
          "output_type": "error",
          "traceback": [
            "\u001b[0;36m  Cell \u001b[0;32mIn[10], line 35\u001b[0;36m\u001b[0m\n\u001b[0;31m    model.fit( ,epochs=10)\u001b[0m\n\u001b[0m               ^\u001b[0m\n\u001b[0;31mSyntaxError\u001b[0m\u001b[0;31m:\u001b[0m invalid syntax\n"
          ]
        }
      ],
      "source": [
        "def forex_model():\n",
        "  import numpy as np\n",
        "  from forex_trading_strategies import forex_trading_strategies\n",
        "\n",
        "  # Define input features and output labels for your model\n",
        "  # X is your input features and y is your output labels\n",
        "  X = np.array([28])  # input features\n",
        "  y = np.array([2])  # output labels\n",
        "\n",
        "  # Instantiate the forex_trading_strategies class\n",
        "  strategy = forex_trading_strategies()\n",
        "\n",
        "  # Generate output labels for your training data using the apply_strategy function\n",
        "  y_pred = []\n",
        "  for i in range(len(X)):\n",
        "      state = X[i]\n",
        "      action = y[i]\n",
        "      reward, position, traded_pairs = strategy.apply_strategy(state, action, enter_trade, exit_trade, balance, atr, traded_pairs, current_pair)\n",
        "      y_pred.append(reward)\n",
        "\n",
        "  # Train your machine learning model using X and y_pred as your training data\n",
        "\n",
        "  model.Sequential([\n",
        "      Dense(512, activation='tf.nn.relu'),\n",
        "      Dense(256, activation=\"tf.nn.relu\"),\n",
        "      Dropout(0.25),\n",
        "      Dense(28, activation='softmax'),\n",
        "  ])\n",
        "\n",
        "  model.compile(\n",
        "      optimizer=optimizers.Adam(learning_rate=0.0001),\n",
        "      loss=mse,\n",
        "      accuracy=['metrics']\n",
        "      )\n",
        "  # Fit your model  \n",
        "  model.fit( ,epochs=10)\n",
        "  \n",
        "  # Evaluate your model\n",
        "  model.evaluate( ,verbose=2)\n",
        "\n",
        "\n"
      ]
    },
    {
      "cell_type": "code",
      "execution_count": 11,
      "metadata": {
        "id": "MIQrqEWdoqlm"
      },
      "outputs": [],
      "source": [
        "\n",
        "def indicator_list(self, data, period):\n",
        "\n",
        "    # Credit for indicator functions with machine learning goes to Bing AI by Microsoft\n",
        "\n",
        "    def smi_ergodic_indicator(self, data, n=10, n2=4, n3=10):\n",
        "        hl2 = (data[:, :, 0] + data[:, :, 1]) / 2\n",
        "        cmo = 100 * (hl2 - hl2[:, n-1:n]) / (hl2 + hl2[:, n-1:n])\n",
        "        cmo_ema1 = tf.keras.backend.squeeze(tf.keras.layers.EMA(alpha=1/n2)(tf.expand_dims(cmo, axis=-1)), axis=-1)\n",
        "        cmo_ema2 = tf.keras.backend.squeeze(tf.keras.layers.EMA(alpha=1/n3)(tf.expand_dims(cmo_ema1, axis=-1)), axis=-1)\n",
        "        return cmo_ema2\n",
        "\n",
        "    def arnaud_legoux_ma(self, data, period=9, sigma=6, offset=0.85):\n",
        "        m = offset * (period - 1)\n",
        "        s = period / sigma\n",
        "        w = tf.exp(-((tf.range(period) - m) ** 2) / (2 * s ** 2))\n",
        "        alma = tf.reduce_sum(w * data[:, -period:], axis=1) / tf.reduce_sum(w)\n",
        "        return alma\n",
        "\n",
        "    def average_true_range(self, data, period=14):\n",
        "        high = data[:, :, 0]\n",
        "        low = data[:, :, 1]\n",
        "        close = data[:, :, 2]\n",
        "        tr = tf.maximum(high - low, tf.abs(high - close), tf.abs(low - close))\n",
        "        atr = tf.reduce_mean(tr, axis=1)\n",
        "        for i in range(1, tr.shape[1]):\n",
        "            atr = (atr * (period - 1) + tr[:, i]) / period\n",
        "        return atr\n",
        "\n",
        "    def chalkin_money_flow(self, data, period=20):\n",
        "        high = data[:, :, 0]\n",
        "        low = data[:, :, 1]\n",
        "        close = data[:, :, 2]\n",
        "        volume = data[:, :, 3]\n",
        "        mf_multiplier = ((close - low) - (high - close)) / (high - low)\n",
        "        mf_volume = mf_multiplier * volume\n",
        "        cmf = tf.reduce_sum(mf_volume[:, -period:], axis=1) / tf.reduce_sum(volume[:, -period:], axis=1)\n",
        "        return cmf\n"
      ]
    },
    {
      "cell_type": "code",
      "execution_count": null,
      "metadata": {
        "id": "DEgVdCSUF7Rb"
      },
      "outputs": [],
      "source": [
        "model.fit(x_train, y_train, epochs=500)\n",
        "model.evaluate(x_test, y_test, verbose=2)"
      ]
    },
    {
      "cell_type": "code",
      "execution_count": null,
      "metadata": {
        "id": "GCYGo6q4F7am"
      },
      "outputs": [],
      "source": []
    }
  ],
  "metadata": {
    "colab": {
      "provenance": []
    },
    "kernelspec": {
      "display_name": "Python 3",
      "name": "python3"
    },
    "language_info": {
      "codemirror_mode": {
        "name": "ipython",
        "version": 3
      },
      "file_extension": ".py",
      "mimetype": "text/x-python",
      "name": "python",
      "nbconvert_exporter": "python",
      "pygments_lexer": "ipython3",
      "version": "3.10.8"
    }
  },
  "nbformat": 4,
  "nbformat_minor": 0
}
