{
  "nbformat": 4,
  "nbformat_minor": 0,
  "metadata": {
    "colab": {
      "provenance": []
    },
    "kernelspec": {
      "name": "python3",
      "display_name": "Python 3"
    },
    "language_info": {
      "name": "python"
    }
  },
  "cells": [
    {
      "cell_type": "code",
      "execution_count": null,
      "metadata": {
        "id": "IWuU-sTXgIJ5"
      },
      "outputs": [],
      "source": [
        "import tensorflow as tf\n",
        "import numpy as np\n",
        "import pandas as pd\n",
        "import requests\n",
        "from keras.models import Sequential\n",
        "from keras.losses import MeanSquaredError\n",
        "from keras.layers import Dense, Flatten, Dropout, rnn, LSTM, GRU\n",
        "from keras import optimizers, datasets\n",
        "import v20\n",
        "import openai"
      ]
    },
    {
      "cell_type": "code",
      "source": [
        "# Data pairs\n",
        "currency_pairs = [\"EUR_USD\", \"USD_JPY\", \"GBP_USD\", \"USD_CHF\", \"USD_CAD\", \"AUD_USD\",\n",
        "                  \"NZD_USD\", \"EUR_GBP\", \"EUR_JPY\", \"GBP_JPY\", \"EUR_CHF\", \"EUR_CAD\",\n",
        "                  \"AUD_JPY\", \"AUD_NZD\", \"AUD_CAD\", \"AUD_CHF\", \"CAD_JPY\", \"CAD_CHF\",\n",
        "                  \"CHF_JPY\", \"EUR_NZD\", \"GBP_AUD\", \"GBP_CAD\", \"GBP_CHF\", \"GBP_NZD\",\n",
        "                  \"NZD_CAD\", \"NZD_CHF\", \"NZD_JPY\", \"EUR_AUD\"]"
      ],
      "metadata": {
        "id": "GlJjsYM4gQZL"
      },
      "execution_count": null,
      "outputs": []
    },
    {
      "cell_type": "code",
      "source": [
        "# Set the number of data samples, time steps, and features\n",
        "batch_size = 28\n",
        "# period of data i want to use days months years etc..\n",
        "timesteps = 365\n",
        "# includes open candle , close candle etc..\n",
        "input_dim = 8\n",
        "\n",
        "# Create some sample input data\n",
        "input_data = np.random.rand(batch_size, timesteps, input_dim)\n",
        "\n",
        "timesteps = input_data.shape[1]\n",
        "input_dim = input_data.shape[2]\n"
      ],
      "metadata": {
        "id": "iUTr43I9stUL"
      },
      "execution_count": null,
      "outputs": []
    },
    {
      "cell_type": "code",
      "source": [
        "# api info"
      ],
      "metadata": {
        "id": "004X7-05gQje"
      },
      "execution_count": null,
      "outputs": []
    },
    {
      "cell_type": "code",
      "source": [],
      "metadata": {
        "id": "RdoMcH5Hhak1"
      },
      "execution_count": null,
      "outputs": []
    },
    {
      "cell_type": "code",
      "source": [
        """ This function trades each pair on the currency list, using 2% of the balance, that way you will never have a margin call
        , it sets a stoploss at 1.5 * atr on each trade each trade, traded. Once in a trade it will not repeat a pair. Example: If i trade the EUR/USD
         in a long or buy position. This function will NOT trade any other pair that has the currency EUR or USD. 
        In other words it doesn't repeat traded currency. """
        "def trading_reward(state, action, enter_trade, exit_trade, balance, atr, traded_pairs, current_pair):\n",
        "    trade_size = 0.02 * balance / (1.5 * atr)\n",
        "    stop_loss = state[enter_trade] - 1.5 * atr\n",
        "    position = state[enter_trade]\n",
        "    if action == 1:  # enter long position\n",
        "        if any(curr in current_pair for curr in traded_pairs):\n",
        "            position = 0\n",
        "        else:\n",
        "            position = trade_size\n",
        "            traded_pairs.extend(current_pair.split('/'))\n",
        "    elif action == 2:  # enter short position\n",
        "        if any(curr in current_pair for curr in traded_pairs):\n",
        "            position = 0\n",
        "        else:\n",
        "            position = -trade_size\n",
        "            traded_pairs.extend(current_pair.split('/'))\n",
        "    elif action == 3:  # exit position\n",
        "        position = 0\n",
        "    if state[exit_trade] <= stop_loss:\n",
        "        position = 0\n",
        "    profit = (state[exit_trade] - state[enter_trade]) * position\n",
        "    reward = profit\n",
        "    return reward, position, traded_pairs\n"
      ],
      "metadata": {
        "id": "IZuN_ubMhaqL"
      },
      "execution_count": null,
      "outputs": []
    },
    {
      "cell_type": "code",
      "source": [
        "# build models\n",
        "class my_forex_models():\n",
        "  def model_with_sequential(v20):\n",
        "    seq_model = Sequential([\n",
        "        LSTM(512, input_shape=(timesteps, input_dim)),\n",
        "        Dense(512, activation=tf.nn.relu),\n",
        "        Dense(128, activation=tf.nn.relu),\n",
        "        Dropout(0.25),\n",
        "        Dense(28, activation=tf.nn.softmax)\n",
        "    ])\n",
        "    return seq_model\n",
        "\n",
        "  def model_with_functional(v20):\n",
        "    pass\n",
        "\n",
        "  # i can build my model using my trading indictors\n",
        "  def model_with_multi_indicators():\n",
        "    def linear_regression_channel(self, data, period=14):\n",
        "        x = tf.range(period)\n",
        "        x_mean = tf.reduce_mean(x)\n",
        "        y_mean = tf.reduce_mean(data[:, -period:], axis=1)\n",
        "        b = tf.reduce_sum((x - x_mean) * (data[:, -period:] - y_mean), axis=1) / tf.reduce_sum(tf.square(x - x_mean))\n",
        "        a = y_mean - b * x_mean\n",
        "        upper = a + b * (period - 1) + 2 * tf.math.reduce_std(data[:, -period:], axis=1)\n",
        "        lower = a + b * (period - 1) - 2 * tf.math.reduce_std(data[:, -period:], axis=1)\n",
        "        return upper, lower\n",
        "\n",
        "    def smi_ergodic_indicator(self, data, n=10, n2=4, n3=10):\n",
        "        hl2 = (data[:, :, 0] + data[:, :, 1]) / 2\n",
        "        cmo = 100 * (hl2 - hl2[:, n-1:n]) / (hl2 + hl2[:, n-1:n])\n",
        "        cmo_ema1 = tf.keras.backend.squeeze(tf.keras.layers.EMA(alpha=1/n2)(tf.expand_dims(cmo, axis=-1)), axis=-1)\n",
        "        cmo_ema2 = tf.keras.backend.squeeze(tf.keras.layers.EMA(alpha=1/n3)(tf.expand_dims(cmo_ema1, axis=-1)), axis=-1)\n",
        "        return cmo_ema2\n",
        "\n",
        "    def arnaud_legoux_ma(self, data, period=9, sigma=6, offset=0.85):\n",
        "        m = offset * (period - 1)\n",
        "        s = period / sigma\n",
        "        w = tf.exp(-((tf.range(period) - m) ** 2) / (2 * s ** 2))\n",
        "        alma = tf.reduce_sum(w * data[:, -period:], axis=1) / tf.reduce_sum(w)\n",
        "        return alma\n",
        "\n",
        "    def average_true_range(self, data, period=14):\n",
        "        high = data[:, :, 0]\n",
        "        low = data[:, :, 1]\n",
        "        close = data[:, :, 2]\n",
        "        tr = tf.maximum(high - low, tf.abs(high - close), tf.abs(low - close))\n",
        "        atr = tf.reduce_mean(tr, axis=1)\n",
        "        for i in range(1, tr.shape[1]):\n",
        "            atr = (atr * (period - 1) + tr[:, i]) / period\n",
        "        return atr\n",
        "\n",
        "    def chalkin_money_flow(self, data, period=20):\n",
        "        high = data[:, :, 0]\n",
        "        low = data[:, :, 1]\n",
        "        close = data[:, :, 2]\n",
        "        volume = data[:, :, 3]\n",
        "        mf_multiplier = ((close - low) - (high - close)) / (high - low)\n",
        "        mf_volume = mf_multiplier * volume\n",
        "        cmf = tf.reduce_sum(mf_volume[:, -period:], axis=1) / tf.reduce_sum(volume[:, -period:], axis=1)\n",
        "        return cmf\n",
        "\n",
        "\n"
      ],
      "metadata": {
        "id": "D57J3bR3hav-"
      },
      "execution_count": null,
      "outputs": []
    },
    {
      "cell_type": "code",
      "source": [
        "# i can make a loss function with my trading indicators\n",
        "class multi_indicator_loss():\n",
        "    def linear_regression_channel(self, data, period=14):\n",
        "        x = tf.range(period)\n",
        "        x_mean = tf.reduce_mean(x)\n",
        "        y_mean = tf.reduce_mean(data[:, -period:], axis=1)\n",
        "        b = tf.reduce_sum((x - x_mean) * (data[:, -period:] - y_mean), axis=1) / tf.reduce_sum(tf.square(x - x_mean))\n",
        "        a = y_mean - b * x_mean\n",
        "        upper = a + b * (period - 1) + 2 * tf.math.reduce_std(data[:, -period:], axis=1)\n",
        "        lower = a + b * (period - 1) - 2 * tf.math.reduce_std(data[:, -period:], axis=1)\n",
        "        return upper, lower\n",
        "\n",
        "    def smi_ergodic_indicator(self, data, n=10, n2=4, n3=10):\n",
        "        hl2 = (data[:, :, 0] + data[:, :, 1]) / 2\n",
        "        cmo = 100 * (hl2 - hl2[:, n-1:n]) / (hl2 + hl2[:, n-1:n])\n",
        "        cmo_ema1 = tf.keras.backend.squeeze(tf.keras.layers.EMA(alpha=1/n2)(tf.expand_dims(cmo, axis=-1)), axis=-1)\n",
        "        cmo_ema2 = tf.keras.backend.squeeze(tf.keras.layers.EMA(alpha=1/n3)(tf.expand_dims(cmo_ema1, axis=-1)), axis=-1)\n",
        "        return cmo_ema2\n",
        "\n",
        "    def arnaud_legoux_ma(self, data, period=9, sigma=6, offset=0.85):\n",
        "        m = offset * (period - 1)\n",
        "        s = period / sigma\n",
        "        w = tf.exp(-((tf.range(period) - m) ** 2) / (2 * s ** 2))\n",
        "        alma = tf.reduce_sum(w * data[:, -period:], axis=1) / tf.reduce_sum(w)\n",
        "        return alma\n",
        "\n",
        "    def average_true_range(self, data, period=14):\n",
        "        high = data[:, :, 0]\n",
        "        low = data[:, :, 1]\n",
        "        close = data[:, :, 2]\n",
        "        tr = tf.maximum(high - low, tf.abs(high - close), tf.abs(low - close))\n",
        "        atr = tf.reduce_mean(tr, axis=1)\n",
        "        for i in range(1, tr.shape[1]):\n",
        "            atr = (atr * (period - 1) + tr[:, i]) / period\n",
        "        return atr\n",
        "\n",
        "    def chalkin_money_flow(self, data, period=20):\n",
        "        high = data[:, :, 0]\n",
        "        low = data[:, :, 1]\n",
        "        close = data[:, :, 2]\n",
        "        volume = data[:, :, 3]\n",
        "        mf_multiplier = ((close - low) - (high - close)) / (high - low)\n",
        "        mf_volume = mf_multiplier * volume\n",
        "        cmf = tf.reduce_sum(mf_volume[:, -period:], axis=1) / tf.reduce_sum(volume[:, -period:], axis=1)\n",
        "        return cmf\n",
        "\n",
        "\n",
        "\n"
      ],
      "metadata": {
        "id": "G14AUpn0vKDq"
      },
      "execution_count": null,
      "outputs": []
    },
    {
      "cell_type": "code",
      "source": [
        "model = my_forex_models()\n",
        "\n",
        "seq_model = model.model_with_sequential()"
      ],
      "metadata": {
        "id": "kv_7p_ymmTPd"
      },
      "execution_count": null,
      "outputs": []
    },
    {
      "cell_type": "code",
      "source": [
        "model.compile(\n",
        "    optimizer=optimizers.Adam(learning_rate=0.0001),\n",
        "    loss=multi_indicator_loss,\n",
        "    metrics=['accuracy']\n",
        ")"
      ],
      "metadata": {
        "colab": {
          "base_uri": "https://localhost:8080/",
          "height": 258
        },
        "id": "Ysx9NzKBmNV3",
        "outputId": "1ca0a978-3448-46be-9c2a-a0418fb52712"
      },
      "execution_count": null,
      "outputs": [
        {
          "output_type": "error",
          "ename": "AttributeError",
          "evalue": "ignored",
          "traceback": [
            "\u001b[0;31m---------------------------------------------------------------------------\u001b[0m",
            "\u001b[0;31mAttributeError\u001b[0m                            Traceback (most recent call last)",
            "\u001b[0;32m<ipython-input-20-1df77f172af6>\u001b[0m in \u001b[0;36m<cell line: 1>\u001b[0;34m()\u001b[0m\n\u001b[0;32m----> 1\u001b[0;31m model.compile(\n\u001b[0m\u001b[1;32m      2\u001b[0m     \u001b[0moptimizer\u001b[0m\u001b[0;34m=\u001b[0m\u001b[0moptimizers\u001b[0m\u001b[0;34m.\u001b[0m\u001b[0mAdam\u001b[0m\u001b[0;34m(\u001b[0m\u001b[0mlearning_rate\u001b[0m\u001b[0;34m=\u001b[0m\u001b[0;36m0.0001\u001b[0m\u001b[0;34m)\u001b[0m\u001b[0;34m,\u001b[0m\u001b[0;34m\u001b[0m\u001b[0;34m\u001b[0m\u001b[0m\n\u001b[1;32m      3\u001b[0m     \u001b[0mloss\u001b[0m\u001b[0;34m=\u001b[0m\u001b[0mmulti_indicator_loss\u001b[0m\u001b[0;34m,\u001b[0m\u001b[0;34m\u001b[0m\u001b[0;34m\u001b[0m\u001b[0m\n\u001b[1;32m      4\u001b[0m     \u001b[0mmetrics\u001b[0m\u001b[0;34m=\u001b[0m\u001b[0;34m[\u001b[0m\u001b[0;34m'accuracy'\u001b[0m\u001b[0;34m]\u001b[0m\u001b[0;34m\u001b[0m\u001b[0;34m\u001b[0m\u001b[0m\n\u001b[1;32m      5\u001b[0m )\n",
            "\u001b[0;31mAttributeError\u001b[0m: 'my_forex_models' object has no attribute 'compile'"
          ]
        }
      ]
    },
    {
      "cell_type": "code",
      "source": [],
      "metadata": {
        "id": "DEgVdCSUF7Rb"
      },
      "execution_count": null,
      "outputs": []
    },
    {
      "cell_type": "code",
      "source": [],
      "metadata": {
        "id": "GCYGo6q4F7am"
      },
      "execution_count": null,
      "outputs": []
    }
  ]
}
